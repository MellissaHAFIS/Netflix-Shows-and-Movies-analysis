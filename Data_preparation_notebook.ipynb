{
 "cells": [
  {
   "cell_type": "code",
   "execution_count": 40,
   "id": "bcda4460-8aaf-4b9f-a794-9a7df5e460fd",
   "metadata": {},
   "outputs": [],
   "source": [
    "import pandas as pd\n",
    "import numpy as np"
   ]
  },
  {
   "cell_type": "markdown",
   "id": "ba46e32f-e5c0-47cf-9bdb-2c03dbac1552",
   "metadata": {},
   "source": [
    "# Step 1: Load the Data"
   ]
  },
  {
   "cell_type": "code",
   "execution_count": 42,
   "id": "56640830-24d8-42b9-9a32-7584b936b67c",
   "metadata": {},
   "outputs": [
    {
     "name": "stdout",
     "output_type": "stream",
     "text": [
      "******** Heads of the datasets  **************\n",
      "\n",
      "         id                                title   type  \\\n",
      "0  ts300399  Five Came Back: The Reference Films   SHOW   \n",
      "1   tm84618                          Taxi Driver  MOVIE   \n",
      "2  tm154986                          Deliverance  MOVIE   \n",
      "3  tm127384      Monty Python and the Holy Grail  MOVIE   \n",
      "4  tm120801                      The Dirty Dozen  MOVIE   \n",
      "\n",
      "                                         description  release_year  \\\n",
      "0  This collection includes 12 World War II-era p...          1945   \n",
      "1  A mentally unstable Vietnam War veteran works ...          1976   \n",
      "2  Intent on seeing the Cahulawassee River before...          1972   \n",
      "3  King Arthur, accompanied by his squire, recrui...          1975   \n",
      "4  12 American military prisoners in World War II...          1967   \n",
      "\n",
      "  age_certification  runtime                                       genres  \\\n",
      "0             TV-MA       51                            ['documentation']   \n",
      "1                 R      114                           ['drama', 'crime']   \n",
      "2                 R      109  ['drama', 'action', 'thriller', 'european']   \n",
      "3                PG       91              ['fantasy', 'action', 'comedy']   \n",
      "4               NaN      150                            ['war', 'action']   \n",
      "\n",
      "  production_countries  seasons    imdb_id  imdb_score  imdb_votes  \\\n",
      "0               ['US']      1.0        NaN         NaN         NaN   \n",
      "1               ['US']      NaN  tt0075314         8.2    808582.0   \n",
      "2               ['US']      NaN  tt0068473         7.7    107673.0   \n",
      "3               ['GB']      NaN  tt0071853         8.2    534486.0   \n",
      "4         ['GB', 'US']      NaN  tt0061578         7.7     72662.0   \n",
      "\n",
      "   tmdb_popularity  tmdb_score  \n",
      "0            0.600         NaN  \n",
      "1           40.965       8.179  \n",
      "2           10.010       7.300  \n",
      "3           15.461       7.811  \n",
      "4           20.398       7.600  \n",
      "   person_id       id             name                character   role\n",
      "0       3748  tm84618   Robert De Niro            Travis Bickle  ACTOR\n",
      "1      14658  tm84618     Jodie Foster            Iris Steensma  ACTOR\n",
      "2       7064  tm84618    Albert Brooks                      Tom  ACTOR\n",
      "3       3739  tm84618    Harvey Keitel  Matthew 'Sport' Higgins  ACTOR\n",
      "4      48933  tm84618  Cybill Shepherd                    Betsy  ACTOR\n"
     ]
    }
   ],
   "source": [
    "\n",
    "titles_df = pd.read_csv('./datasets/titles.csv')\n",
    "credits_df = pd.read_csv('./datasets/credits.csv')\n",
    "print(\"******** Heads of the datasets  **************\\n\")\n",
    "print(titles_df.head())\n",
    "print(credits_df.head())"
   ]
  },
  {
   "cell_type": "markdown",
   "id": "43058e6a-03ce-4865-a2d4-671386989fd1",
   "metadata": {},
   "source": [
    "# Step 2: Initial Data Exploration"
   ]
  },
  {
   "cell_type": "code",
   "execution_count": 44,
   "id": "bb3419d3-40cf-44ef-a91d-f31ff76ec466",
   "metadata": {},
   "outputs": [
    {
     "name": "stdout",
     "output_type": "stream",
     "text": [
      "\n",
      "\n",
      "********* some information of the dataset ***********\n",
      "\n",
      "<class 'pandas.core.frame.DataFrame'>\n",
      "RangeIndex: 5850 entries, 0 to 5849\n",
      "Data columns (total 15 columns):\n",
      " #   Column                Non-Null Count  Dtype  \n",
      "---  ------                --------------  -----  \n",
      " 0   id                    5850 non-null   object \n",
      " 1   title                 5849 non-null   object \n",
      " 2   type                  5850 non-null   object \n",
      " 3   description           5832 non-null   object \n",
      " 4   release_year          5850 non-null   int64  \n",
      " 5   age_certification     3231 non-null   object \n",
      " 6   runtime               5850 non-null   int64  \n",
      " 7   genres                5850 non-null   object \n",
      " 8   production_countries  5850 non-null   object \n",
      " 9   seasons               2106 non-null   float64\n",
      " 10  imdb_id               5447 non-null   object \n",
      " 11  imdb_score            5368 non-null   float64\n",
      " 12  imdb_votes            5352 non-null   float64\n",
      " 13  tmdb_popularity       5759 non-null   float64\n",
      " 14  tmdb_score            5539 non-null   float64\n",
      "dtypes: float64(5), int64(2), object(8)\n",
      "memory usage: 685.7+ KB\n",
      "None\n",
      "<class 'pandas.core.frame.DataFrame'>\n",
      "RangeIndex: 77801 entries, 0 to 77800\n",
      "Data columns (total 5 columns):\n",
      " #   Column     Non-Null Count  Dtype \n",
      "---  ------     --------------  ----- \n",
      " 0   person_id  77801 non-null  int64 \n",
      " 1   id         77801 non-null  object\n",
      " 2   name       77801 non-null  object\n",
      " 3   character  68029 non-null  object\n",
      " 4   role       77801 non-null  object\n",
      "dtypes: int64(1), object(4)\n",
      "memory usage: 3.0+ MB\n",
      "None\n",
      "\n",
      "\n",
      "*****************      Null values ****************\n",
      "\n",
      "id                         0\n",
      "title                      1\n",
      "type                       0\n",
      "description               18\n",
      "release_year               0\n",
      "age_certification       2619\n",
      "runtime                    0\n",
      "genres                     0\n",
      "production_countries       0\n",
      "seasons                 3744\n",
      "imdb_id                  403\n",
      "imdb_score               482\n",
      "imdb_votes               498\n",
      "tmdb_popularity           91\n",
      "tmdb_score               311\n",
      "dtype: int64\n",
      "person_id       0\n",
      "id              0\n",
      "name            0\n",
      "character    9772\n",
      "role            0\n",
      "dtype: int64\n",
      "\n",
      "\n",
      "******** Summary statistics *****************\n",
      "\n",
      "       release_year      runtime      seasons   imdb_score    imdb_votes  \\\n",
      "count   5850.000000  5850.000000  2106.000000  5368.000000  5.352000e+03   \n",
      "mean    2016.417094    76.888889     2.162868     6.510861  2.343938e+04   \n",
      "std        6.937726    39.002509     2.689041     1.163826  9.582047e+04   \n",
      "min     1945.000000     0.000000     1.000000     1.500000  5.000000e+00   \n",
      "25%     2016.000000    44.000000     1.000000     5.800000  5.167500e+02   \n",
      "50%     2018.000000    83.000000     1.000000     6.600000  2.233500e+03   \n",
      "75%     2020.000000   104.000000     2.000000     7.300000  9.494000e+03   \n",
      "max     2022.000000   240.000000    42.000000     9.600000  2.294231e+06   \n",
      "\n",
      "       tmdb_popularity   tmdb_score  \n",
      "count      5759.000000  5539.000000  \n",
      "mean         22.637925     6.829175  \n",
      "std          81.680263     1.170391  \n",
      "min           0.009442     0.500000  \n",
      "25%           2.728500     6.100000  \n",
      "50%           6.821000     6.900000  \n",
      "75%          16.590000     7.537500  \n",
      "max        2274.044000    10.000000  \n",
      "          person_id\n",
      "count  7.780100e+04\n",
      "mean   5.294888e+05\n",
      "std    6.430167e+05\n",
      "min    7.000000e+00\n",
      "25%    4.530600e+04\n",
      "50%    1.983580e+05\n",
      "75%    8.880960e+05\n",
      "max    2.462818e+06\n"
     ]
    }
   ],
   "source": [
    "\n",
    "print(\"\\n\\n********* some information of the dataset ***********\\n\")\n",
    "print(titles_df.info())\n",
    "print(credits_df.info())\n",
    "print(\"\\n\\n*****************      Null values ****************\\n\")\n",
    "print(titles_df.isnull().sum())\n",
    "print(credits_df.isnull().sum())\n",
    "print(\"\\n\\n******** Summary statistics *****************\\n\")\n",
    "print(titles_df.describe())\n",
    "print(credits_df.describe())"
   ]
  },
  {
   "cell_type": "markdown",
   "id": "75d2d624-c286-4ccf-b05a-f9899ded89aa",
   "metadata": {},
   "source": [
    "# Step 3: Handle missing values"
   ]
  },
  {
   "cell_type": "markdown",
   "id": "0600d6da-690d-4d56-a4dd-a955fa3437c7",
   "metadata": {},
   "source": [
    "## 3.1-missing values in titles_df\n"
   ]
  },
  {
   "cell_type": "markdown",
   "id": "f0f97502-6355-45a2-b11c-e9b0fc460881",
   "metadata": {},
   "source": [
    "for the columns title and description the type of missing is MCAR so we use Imupation"
   ]
  },
  {
   "cell_type": "code",
   "execution_count": 48,
   "id": "b3938a42-7349-4814-bf91-c5fda0db075d",
   "metadata": {},
   "outputs": [
    {
     "name": "stdout",
     "output_type": "stream",
     "text": [
      "0\n",
      "0\n"
     ]
    }
   ],
   "source": [
    "titles_df.fillna({'description':'No discription is available'}, inplace=True)\n",
    "\n",
    "titles_df.fillna({'title':'Missing title'}, inplace=True)\n",
    "\n",
    "print(titles_df['description'].isnull().sum())\n",
    "print(titles_df['title'].isnull().sum())"
   ]
  },
  {
   "cell_type": "markdown",
   "id": "1f3d52ba-2443-4de7-b4e3-5a641adf1cb9",
   "metadata": {},
   "source": [
    "for the messing values in age_certification may be related to the release_year  then the type of the missing is MAR => use the methode Multiple imputation"
   ]
  },
  {
   "cell_type": "code",
   "execution_count": 50,
   "id": "c3d86faf-6455-4953-b821-4f300d1f75e8",
   "metadata": {},
   "outputs": [],
   "source": [
    "titles_df['age_certification'] = titles_df.groupby('release_year')['age_certification'].transform(lambda x: x.fillna(x.mode().iloc[0] if not x.mode().empty else \"Unknown\"))"
   ]
  },
  {
   "cell_type": "code",
   "execution_count": 51,
   "id": "6a1f96c3-651d-4de1-b2cc-6615a1531f09",
   "metadata": {},
   "outputs": [
    {
     "name": "stdout",
     "output_type": "stream",
     "text": [
      "0\n",
      "0       TV-MA\n",
      "1           R\n",
      "2           R\n",
      "3          PG\n",
      "4           R\n",
      "        ...  \n",
      "5845    TV-MA\n",
      "5846    TV-MA\n",
      "5847    TV-MA\n",
      "5848    PG-13\n",
      "5849    TV-MA\n",
      "Name: age_certification, Length: 5850, dtype: object\n"
     ]
    }
   ],
   "source": [
    "print(titles_df['age_certification'].isnull().sum())\n",
    "print(titles_df['age_certification'])"
   ]
  },
  {
   "cell_type": "markdown",
   "id": "472ebe75-9f73-47dc-8e2e-d7924015dffb",
   "metadata": {},
   "source": [
    "For the missing values in seasons columns, we notice that number of MOVIE samples is equal to number of missing values in Seasons columns.\n",
    "Then, for all the samples with type==movie seasons<-0 instead of NaN"
   ]
  },
  {
   "cell_type": "code",
   "execution_count": 53,
   "id": "c65e47eb-8704-44df-8ee1-1646971c1329",
   "metadata": {},
   "outputs": [
    {
     "name": "stdout",
     "output_type": "stream",
     "text": [
      "Is number of MOVIE samples equal to number of missing values in Seasons columns? =>  True\n"
     ]
    }
   ],
   "source": [
    "print(\"Is number of MOVIE samples equal to number of missing values in Seasons columns? => \", np.sum((titles_df['type']=='MOVIE'))==titles_df.isnull().sum()['seasons'])\n"
   ]
  },
  {
   "cell_type": "code",
   "execution_count": 54,
   "id": "0d80670a-cb87-4ccf-ad73-2a1203738a7b",
   "metadata": {},
   "outputs": [],
   "source": [
    "titles_df['seasons']=np.where(\n",
    "    (titles_df['seasons'].isna()) & (titles_df['type']=='MOVIE'), \n",
    "    0, \n",
    "    titles_df['seasons']\n",
    ")"
   ]
  },
  {
   "cell_type": "code",
   "execution_count": 55,
   "id": "ba5bd735-b0e7-44f1-993e-e1dd0720e8d0",
   "metadata": {},
   "outputs": [
    {
     "data": {
      "text/plain": [
       "0"
      ]
     },
     "execution_count": 55,
     "metadata": {},
     "output_type": "execute_result"
    }
   ],
   "source": [
    "titles_df.isnull().sum()['seasons']"
   ]
  },
  {
   "cell_type": "markdown",
   "id": "fdaff027-c5d0-4125-b682-bb9a07727def",
   "metadata": {},
   "source": [
    "For the column imdb_id, we will impute the missing values with a unique number for each missing value because the column is an ID."
   ]
  },
  {
   "cell_type": "code",
   "execution_count": 57,
   "id": "b033bb18-dd6d-476d-940d-ce4e3930619c",
   "metadata": {},
   "outputs": [
    {
     "name": "stdout",
     "output_type": "stream",
     "text": [
      "0\n"
     ]
    }
   ],
   "source": [
    "# Find the indices where values are missing\n",
    "missing_indices = titles_df['imdb_id'].isna()\n",
    "\n",
    "# Generate unique values starting from the maximum value in the column + 1\n",
    "\n",
    "existing_ids=titles_df['imdb_id'].dropna()\n",
    "max_id=max( (int(id[2:])) for id in existing_ids) \n",
    "\n",
    "# Generate unique IDs for missing values\n",
    "new_ids = [f'tt{max_id + i + 1}' for i in range(missing_indices.sum())]\n",
    "\n",
    "# Fill missing IDs with unique values\n",
    "titles_df.loc[missing_indices, 'imdb_id'] = new_ids\n",
    "\n",
    "#check missing values \n",
    "print(titles_df['imdb_id'].isnull().sum())"
   ]
  },
  {
   "cell_type": "markdown",
   "id": "13c39047-487f-487d-b097-6e8264a54f4d",
   "metadata": {},
   "source": [
    "For the numerical columns imdb_score, \n",
    "imdb_vote, \r\n",
    "tmdb_populary, 1\r\n",
    "tmdb_scowe will impute the missing values using a predictor KNN\n",
    "Where the value to use as an imputer is predicted. \n",
    "To be more specific, we will use k-Nearest Neighbors imputer based on knn predictor. \n",
    "\n",
    " > Each sample’s missing values are imputed using the mean value from n_neighbors nearest neighbors found in the training set. Two samples are close if the features that neither is missing are close.\n",
    "311"
   ]
  },
  {
   "cell_type": "code",
   "execution_count": 59,
   "id": "c4c391cf-5861-42e6-bce9-3b7562a783d4",
   "metadata": {},
   "outputs": [],
   "source": [
    "from sklearn.impute import KNNImputer\n",
    "imputer = KNNImputer(n_neighbors=3)\n",
    "titles_df[['imdb_score', 'imdb_votes', 'tmdb_popularity', 'tmdb_score']] = imputer.fit_transform(titles_df[['imdb_score', 'imdb_votes', 'tmdb_popularity', 'tmdb_score']])"
   ]
  },
  {
   "cell_type": "code",
   "execution_count": 60,
   "id": "e05ac50c-787a-44af-93e7-6b730ecba7f9",
   "metadata": {},
   "outputs": [
    {
     "name": "stdout",
     "output_type": "stream",
     "text": [
      "0\n"
     ]
    }
   ],
   "source": [
    "print(titles_df['imdb_score'].isnull().sum())"
   ]
  },
  {
   "cell_type": "markdown",
   "id": "4320b890-2754-420b-823c-1ff32efabb6e",
   "metadata": {},
   "source": [
    "## 3.2-missing values in credits_df\n",
    "There is only one column with missing values, character column, and the missing type is CMAR, we will fill the NaN values with \"character unknown\"."
   ]
  },
  {
   "cell_type": "code",
   "execution_count": 62,
   "id": "c698e54e-a07f-49b3-ba99-90c0ebc4a2e3",
   "metadata": {},
   "outputs": [],
   "source": [
    "credits_df.fillna({'character':'character unknown'}, inplace=True)"
   ]
  },
  {
   "cell_type": "markdown",
   "id": "1c3a9e84-53f2-4e2d-a7c9-b70cd7225ba5",
   "metadata": {},
   "source": [
    "# Step 4: Remove duplicates."
   ]
  },
  {
   "cell_type": "code",
   "execution_count": 64,
   "id": "81712fb5-199d-4311-a58d-ea2076b847ad",
   "metadata": {},
   "outputs": [
    {
     "name": "stdout",
     "output_type": "stream",
     "text": [
      "0\n",
      "23212\n"
     ]
    }
   ],
   "source": [
    "print(titles_df.duplicated('id').sum())\n",
    "print(credits_df.duplicated('person_id').sum())\n",
    "\n"
   ]
  },
  {
   "cell_type": "markdown",
   "id": "cd2d89c3-9e44-494f-b507-ddc35662e09e",
   "metadata": {},
   "source": [
    "We have duplicated values in the credits dataset "
   ]
  },
  {
   "cell_type": "code",
   "execution_count": 133,
   "id": "8d0c9c9f-a235-4b54-8b9b-4449fbe830b9",
   "metadata": {},
   "outputs": [],
   "source": [
    "credits_df.drop_duplicates('person_id',inplace=True)"
   ]
  },
  {
   "cell_type": "code",
   "execution_count": 135,
   "id": "cf2508b3-3bd7-4088-83e5-f91a699f1bc9",
   "metadata": {},
   "outputs": [
    {
     "name": "stdout",
     "output_type": "stream",
     "text": [
      "0\n"
     ]
    }
   ],
   "source": [
    "print(credits_df.duplicated('person_id').sum())\n"
   ]
  },
  {
   "cell_type": "markdown",
   "id": "b495a148-b19d-4e9d-bd6a-8581fdeca4ee",
   "metadata": {},
   "source": [
    "# Step 5: Convert data types."
   ]
  },
  {
   "cell_type": "code",
   "execution_count": 68,
   "id": "b19bd910-f839-45b0-a7ae-e2e7aa4fdc53",
   "metadata": {},
   "outputs": [],
   "source": [
    "titles_df['release_year'] = pd.to_numeric(titles_df['release_year'], errors='coerce').astype(int)\n",
    "titles_df['runtime'] = pd.to_numeric(titles_df['runtime'], errors='coerce').astype(int)\n",
    "titles_df['seasons'] = pd.to_numeric(titles_df['seasons'], errors='coerce').astype(int)\n",
    "titles_df['imdb_score'] = titles_df['imdb_score'].astype(float)\n",
    "titles_df['tmdb_score'] = titles_df['tmdb_score'].astype(float)\n",
    "titles_df['imdb_votes'] = titles_df['imdb_votes'].astype(float)\n",
    "titles_df['tmdb_popularity'] = titles_df['tmdb_popularity'].astype(float)"
   ]
  },
  {
   "cell_type": "markdown",
   "id": "308c9a32-aa39-4f99-8db3-bfdbb4da3647",
   "metadata": {},
   "source": [
    "# Step 6: Creating new relations for a good database modelization"
   ]
  },
  {
   "cell_type": "markdown",
   "id": "31ab8bcc-0fa3-436b-8594-2f1b8cba4621",
   "metadata": {},
   "source": [
    "We notice that in one attributs there is a list of values and this not a good practice in database conception"
   ]
  },
  {
   "cell_type": "code",
   "execution_count": 71,
   "id": "2a1f802b-8ad6-412b-99ce-f77029129d36",
   "metadata": {},
   "outputs": [
    {
     "name": "stdout",
     "output_type": "stream",
     "text": [
      "0                                 ['documentation']\n",
      "1                                ['drama', 'crime']\n",
      "2       ['drama', 'action', 'thriller', 'european']\n",
      "3                   ['fantasy', 'action', 'comedy']\n",
      "4                                 ['war', 'action']\n",
      "                           ...                     \n",
      "5845                           ['romance', 'drama']\n",
      "5846                                      ['drama']\n",
      "5847                                     ['comedy']\n",
      "5848                                             []\n",
      "5849              ['family', 'animation', 'comedy']\n",
      "Name: genres, Length: 5850, dtype: object\n"
     ]
    }
   ],
   "source": [
    "print(titles_df['genres'])"
   ]
  },
  {
   "cell_type": "code",
   "execution_count": 72,
   "id": "0c5a2ab5-3762-4bca-b8cc-d806037ca3e6",
   "metadata": {},
   "outputs": [
    {
     "name": "stdout",
     "output_type": "stream",
     "text": [
      "0             ['US']\n",
      "1             ['US']\n",
      "2             ['US']\n",
      "3             ['GB']\n",
      "4       ['GB', 'US']\n",
      "            ...     \n",
      "5845          ['NG']\n",
      "5846              []\n",
      "5847          ['CO']\n",
      "5848          ['US']\n",
      "5849              []\n",
      "Name: production_countries, Length: 5850, dtype: object\n"
     ]
    }
   ],
   "source": [
    "print(titles_df['production_countries'])"
   ]
  },
  {
   "cell_type": "markdown",
   "id": "f348d027-6b85-49a1-9903-e465fbe49780",
   "metadata": {},
   "source": [
    "## 6.1-Creating a Genre table (data frame => csv file)"
   ]
  },
  {
   "cell_type": "code",
   "execution_count": 74,
   "id": "f6b9e551-5d4c-4f1c-bfe7-4c6ce1f58808",
   "metadata": {},
   "outputs": [
    {
     "data": {
      "text/plain": [
       "0                           [documentation]\n",
       "1                            [drama, crime]\n",
       "2       [drama, action, thriller, european]\n",
       "3                 [fantasy, action, comedy]\n",
       "4                             [war, action]\n",
       "                       ...                 \n",
       "5845                       [romance, drama]\n",
       "5846                                [drama]\n",
       "5847                               [comedy]\n",
       "5848                                     []\n",
       "5849            [family, animation, comedy]\n",
       "Name: genres, Length: 5850, dtype: object"
      ]
     },
     "execution_count": 74,
     "metadata": {},
     "output_type": "execute_result"
    }
   ],
   "source": [
    "#this let us to transform the list of object stored as a sting into a real list \n",
    "import ast\n",
    "titles_df['genres'].apply(ast.literal_eval)"
   ]
  },
  {
   "cell_type": "code",
   "execution_count": 75,
   "id": "e99dddcb-a6e6-4f62-b018-de43d79dbfe5",
   "metadata": {},
   "outputs": [
    {
     "name": "stdout",
     "output_type": "stream",
     "text": [
      "0       documentation\n",
      "1               drama\n",
      "1               crime\n",
      "2               drama\n",
      "2              action\n",
      "            ...      \n",
      "5847           comedy\n",
      "5848              NaN\n",
      "5849           family\n",
      "5849        animation\n",
      "5849           comedy\n",
      "Name: genres, Length: 15147, dtype: object\n"
     ]
    }
   ],
   "source": [
    "import ast\n",
    "titles_df['genres']=titles_df['genres'].apply(ast.literal_eval)\n",
    "all_genres = titles_df['genres'].explode() #we extract all the genres \n",
    "print(all_genres)"
   ]
  },
  {
   "cell_type": "code",
   "execution_count": 76,
   "id": "10f6746a-51e5-4870-9229-4508e5862a99",
   "metadata": {},
   "outputs": [
    {
     "data": {
      "text/plain": [
       "array(['documentation', 'drama', 'crime', 'action', 'thriller',\n",
       "       'european', 'fantasy', 'comedy', 'war', 'romance', 'western',\n",
       "       'history', 'music', 'family', 'horror', 'scifi', 'animation',\n",
       "       'reality', 'sport', nan], dtype=object)"
      ]
     },
     "execution_count": 76,
     "metadata": {},
     "output_type": "execute_result"
    }
   ],
   "source": [
    "all_genres.unique() #we keep unique values of genres "
   ]
  },
  {
   "cell_type": "code",
   "execution_count": 77,
   "id": "637a75a7-bee6-446f-9f3f-f27738667611",
   "metadata": {},
   "outputs": [
    {
     "name": "stdout",
     "output_type": "stream",
     "text": [
      "       genre_name\n",
      "0   documentation\n",
      "1           drama\n",
      "2           crime\n",
      "3          action\n",
      "4        thriller\n",
      "5        european\n",
      "6         fantasy\n",
      "7          comedy\n",
      "8             war\n",
      "9         romance\n",
      "10        western\n",
      "11        history\n",
      "12          music\n",
      "13         family\n",
      "14         horror\n",
      "15          scifi\n",
      "16      animation\n",
      "17        reality\n",
      "18          sport\n"
     ]
    }
   ],
   "source": [
    "unique_genres = pd.DataFrame(all_genres.dropna().unique(), columns=['genre_name'])\n",
    "print(unique_genres)"
   ]
  },
  {
   "cell_type": "code",
   "execution_count": 78,
   "id": "125ea7bf-05ae-4892-95a5-d89900509538",
   "metadata": {},
   "outputs": [],
   "source": [
    "# Save to CSV\n",
    "unique_genres.to_csv('./datasets/genres.csv', index=False)\n"
   ]
  },
  {
   "cell_type": "markdown",
   "id": "df91b990-0434-48ad-930c-84e9c6688508",
   "metadata": {},
   "source": [
    "## 6.2-Creating a ProductionCountry table (data frame => csv file)"
   ]
  },
  {
   "cell_type": "code",
   "execution_count": 80,
   "id": "ea388462-366b-40a0-9705-94503ffa5e04",
   "metadata": {},
   "outputs": [
    {
     "name": "stdout",
     "output_type": "stream",
     "text": [
      "0        US\n",
      "1        US\n",
      "2        US\n",
      "3        GB\n",
      "4        GB\n",
      "       ... \n",
      "5845     NG\n",
      "5846    NaN\n",
      "5847     CO\n",
      "5848     US\n",
      "5849    NaN\n",
      "Name: production_countries, Length: 6757, dtype: object\n",
      "    country\n",
      "0        US\n",
      "1        GB\n",
      "2        EG\n",
      "3        DE\n",
      "4        IN\n",
      "..      ...\n",
      "104      AF\n",
      "105      AO\n",
      "106      NA\n",
      "107      KN\n",
      "108      FO\n",
      "\n",
      "[109 rows x 1 columns]\n"
     ]
    }
   ],
   "source": [
    "import ast\n",
    "titles_df['production_countries']=titles_df['production_countries'].apply(ast.literal_eval)\n",
    "all_countries = titles_df['production_countries'].explode() #we extract all the countries\n",
    "print(all_countries)\n",
    "all_countries.unique() #we keep unique values of countries\n",
    "unique_countries = pd.DataFrame(all_countries.dropna().unique(), columns=['country'])\n",
    "print(unique_countries)\n",
    "# Save to CSV\n",
    "unique_countries.to_csv('./datasets/countries.csv', index=False)"
   ]
  },
  {
   "cell_type": "markdown",
   "id": "23219604-2f7a-4a74-b761-4d346d64edcb",
   "metadata": {},
   "source": [
    "## 6.3-Creating a TitleProdCountry table (data frame => csv file)"
   ]
  },
  {
   "cell_type": "code",
   "execution_count": 82,
   "id": "b2c11f08-a578-4798-b358-e458afd0d6fe",
   "metadata": {},
   "outputs": [
    {
     "name": "stdout",
     "output_type": "stream",
     "text": [
      "   title_id prodCountry\n",
      "0  ts300399          US\n",
      "1   tm84618          US\n",
      "2  tm154986          US\n",
      "3  tm127384          GB\n",
      "4  tm120801          GB\n"
     ]
    }
   ],
   "source": [
    "TitleProdCountry = pd.DataFrame(columns=['title_id', 'prodCountry'])\n",
    "#Iterate through titles_df to populate TitleHasGenre\n",
    "for index, row in titles_df.iterrows():\n",
    "    # Get the list of genres directly\n",
    "    prodCountries = row['production_countries']\n",
    "    \n",
    "    # Create a DataFrame for this title with one row per genre\n",
    "    title_countries = pd.DataFrame({\n",
    "        'title_id': [row['id']] * len(prodCountries),\n",
    "        'prodCountry': prodCountries\n",
    "    })\n",
    "    \n",
    "    # Append to TitleHasGenre DataFrame\n",
    "    TitleProdCountry = pd.concat([TitleProdCountry, title_countries], ignore_index=True)\n",
    "\n",
    "print(TitleProdCountry.head())\n",
    "TitleProdCountry.to_csv('./datasets/titleProdCountry.csv', index=False)"
   ]
  },
  {
   "cell_type": "code",
   "execution_count": 83,
   "id": "34d9564c-6ed7-4a17-9468-ee108893a976",
   "metadata": {},
   "outputs": [
    {
     "name": "stdout",
     "output_type": "stream",
     "text": [
      "   title_id prodCountry\n",
      "0  ts300399          US\n",
      "1   tm84618          US\n",
      "2  tm154986          US\n",
      "3  tm127384          GB\n",
      "4  tm120801          GB\n"
     ]
    }
   ],
   "source": [
    "print(TitleProdCountry.head())"
   ]
  },
  {
   "cell_type": "markdown",
   "id": "9f71f0a8-f9ee-4759-a5ae-0024fb2da004",
   "metadata": {},
   "source": [
    "## 6.4-Creating a TitleHasGenre table (data frame => csv file)"
   ]
  },
  {
   "cell_type": "code",
   "execution_count": 85,
   "id": "a58685eb-f68d-41f3-af67-784c35e414a1",
   "metadata": {},
   "outputs": [],
   "source": [
    "TitleHasGenre = pd.DataFrame(columns=['title_id', 'genre'])\n",
    "#Iterate through titles_df to populate TitleHasGenre\n",
    "for index, row in titles_df.iterrows():\n",
    "    # Get the list of genres directly\n",
    "    genres = row['genres']\n",
    "    \n",
    "    # Create a DataFrame for this title with one row per genre\n",
    "    title_genres = pd.DataFrame({\n",
    "        'title_id': [row['id']] * len(genres),\n",
    "        'genre': genres\n",
    "    })\n",
    "    \n",
    "    # Append to TitleHasGenre DataFrame\n",
    "    TitleHasGenre = pd.concat([TitleHasGenre, title_genres], ignore_index=True)\n",
    "\n",
    "TitleHasGenre.to_csv('./datasets/titleHasGenre.csv', index=False)"
   ]
  },
  {
   "cell_type": "code",
   "execution_count": 86,
   "id": "f98b217a-765b-47e9-874c-9a241a459f8f",
   "metadata": {},
   "outputs": [
    {
     "data": {
      "text/html": [
       "<div>\n",
       "<style scoped>\n",
       "    .dataframe tbody tr th:only-of-type {\n",
       "        vertical-align: middle;\n",
       "    }\n",
       "\n",
       "    .dataframe tbody tr th {\n",
       "        vertical-align: top;\n",
       "    }\n",
       "\n",
       "    .dataframe thead th {\n",
       "        text-align: right;\n",
       "    }\n",
       "</style>\n",
       "<table border=\"1\" class=\"dataframe\">\n",
       "  <thead>\n",
       "    <tr style=\"text-align: right;\">\n",
       "      <th></th>\n",
       "      <th>title_id</th>\n",
       "      <th>genre</th>\n",
       "    </tr>\n",
       "  </thead>\n",
       "  <tbody>\n",
       "    <tr>\n",
       "      <th>0</th>\n",
       "      <td>ts300399</td>\n",
       "      <td>documentation</td>\n",
       "    </tr>\n",
       "    <tr>\n",
       "      <th>1</th>\n",
       "      <td>tm84618</td>\n",
       "      <td>drama</td>\n",
       "    </tr>\n",
       "    <tr>\n",
       "      <th>2</th>\n",
       "      <td>tm84618</td>\n",
       "      <td>crime</td>\n",
       "    </tr>\n",
       "    <tr>\n",
       "      <th>3</th>\n",
       "      <td>tm154986</td>\n",
       "      <td>drama</td>\n",
       "    </tr>\n",
       "    <tr>\n",
       "      <th>4</th>\n",
       "      <td>tm154986</td>\n",
       "      <td>action</td>\n",
       "    </tr>\n",
       "  </tbody>\n",
       "</table>\n",
       "</div>"
      ],
      "text/plain": [
       "   title_id          genre\n",
       "0  ts300399  documentation\n",
       "1   tm84618          drama\n",
       "2   tm84618          crime\n",
       "3  tm154986          drama\n",
       "4  tm154986         action"
      ]
     },
     "execution_count": 86,
     "metadata": {},
     "output_type": "execute_result"
    }
   ],
   "source": [
    "TitleHasGenre.head()"
   ]
  },
  {
   "cell_type": "markdown",
   "id": "9a1d231e-f531-4b78-bf1f-beb1f1d9976d",
   "metadata": {},
   "source": [
    "## 6.5-drop the genres and production_countries columns"
   ]
  },
  {
   "cell_type": "code",
   "execution_count": 88,
   "id": "a6133dba-f410-4e92-b5a1-8d1927dcca9a",
   "metadata": {},
   "outputs": [],
   "source": [
    "titles_df = titles_df.drop(columns=['genres', 'production_countries'], errors='ignore')\n"
   ]
  },
  {
   "cell_type": "code",
   "execution_count": 89,
   "id": "e570a8c6-117a-4c2e-b7df-223fc42ece97",
   "metadata": {},
   "outputs": [],
   "source": [
    "#Step 7: Save the cleaned dataset"
   ]
  },
  {
   "cell_type": "code",
   "execution_count": 90,
   "id": "86cd199b-0e07-45c5-a69e-f2b86da7ba99",
   "metadata": {},
   "outputs": [],
   "source": [
    "# Save cleaned data to new CSV files\n",
    "titles_df.to_csv('./datasets/cleaned_titles.csv', index=False)\n",
    "credits_df.to_csv('./datasets/cleaned_credits.csv', index=False)"
   ]
  },
  {
   "cell_type": "code",
   "execution_count": null,
   "id": "feeeafab-95fb-426d-88c5-d6a5aecd2ac3",
   "metadata": {},
   "outputs": [],
   "source": []
  },
  {
   "cell_type": "code",
   "execution_count": null,
   "id": "4b0aed53-8342-48c1-80fd-7bec0b5e82d1",
   "metadata": {},
   "outputs": [],
   "source": []
  },
  {
   "cell_type": "code",
   "execution_count": null,
   "id": "3aac553a-f4b5-4070-bd2d-d9f53da7f39f",
   "metadata": {},
   "outputs": [],
   "source": []
  }
 ],
 "metadata": {
  "kernelspec": {
   "display_name": "Python 3 (ipykernel)",
   "language": "python",
   "name": "python3"
  },
  "language_info": {
   "codemirror_mode": {
    "name": "ipython",
    "version": 3
   },
   "file_extension": ".py",
   "mimetype": "text/x-python",
   "name": "python",
   "nbconvert_exporter": "python",
   "pygments_lexer": "ipython3",
   "version": "3.12.4"
  }
 },
 "nbformat": 4,
 "nbformat_minor": 5
}
